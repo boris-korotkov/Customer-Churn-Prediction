{
 "cells": [
  {
   "cell_type": "markdown",
   "id": "b437fe2b-3d7c-4d5f-8479-08b57e8e52af",
   "metadata": {},
   "source": [
    "### This id the test notebook"
   ]
  },
  {
   "cell_type": "code",
   "execution_count": 2,
   "id": "202b494f-e474-4b02-8b03-b14f6bae8ab3",
   "metadata": {
    "tags": []
   },
   "outputs": [
    {
     "name": "stdout",
     "output_type": "stream",
     "text": [
      "an updated version\n"
     ]
    }
   ],
   "source": [
    "print('an updated version')"
   ]
  },
  {
   "cell_type": "code",
   "execution_count": null,
   "id": "141ecf91-6563-4e4e-bcf2-24bad8b4a848",
   "metadata": {},
   "outputs": [],
   "source": []
  }
 ],
 "metadata": {
  "kernelspec": {
   "display_name": "conda_python3",
   "language": "python",
   "name": "conda_python3"
  },
  "language_info": {
   "codemirror_mode": {
    "name": "ipython",
    "version": 3
   },
   "file_extension": ".py",
   "mimetype": "text/x-python",
   "name": "python",
   "nbconvert_exporter": "python",
   "pygments_lexer": "ipython3",
   "version": "3.10.10"
  }
 },
 "nbformat": 4,
 "nbformat_minor": 5
}
