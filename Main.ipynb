{
 "cells": [
  {
   "cell_type": "code",
   "execution_count": 1,
   "id": "2beddc5e",
   "metadata": {},
   "outputs": [],
   "source": [
    "# Adapted from SageMaker Immersion Day\n",
    "# Source: https://catalog.us-east-1.prod.workshops.aws/workshops/63069e26-921c-4ce1-9cc7-dd882ff62575/en-US\n",
    "# License: MIT License"
   ]
  },
  {
   "cell_type": "markdown",
   "id": "14839a79-ddc4-4b19-99ed-f330865369c8",
   "metadata": {
    "tags": []
   },
   "source": [
    "#  Customer Churn Prediction with Amazon SageMaker XGBoost\n",
    "\n",
    "\n",
    "## Contents\n",
    "\n",
    "1. [Background](#Background)\n",
    "1. [Setup](#Setup)\n",
    "1. [Data exploration](#DataExploration)\n",
    "1. [Data Preparation](#DataPreparation)\n",
    "1. [Training](#Training)\n",
    "1. [Model Deployment](#ModelDeployment)\n",
    "1. [Model Prediction and Evaluation](#ModelPredictionAndEvaluation)\n",
    "\n",
    "\n",
    "---\n",
    "\n",
    "## Background\n",
    "This is my first SageMaker project where I plan to learn the whole ML cycle which will include the following:  \n",
    "\n",
    "* Downloading data from the Kaggle into Amazon SageMaker\n",
    "* EDA - exploratary data analysis \n",
    "* Transformation of the data to fit Amazon SageMaker algorithms\n",
    "* Develop the model using the Gradient Boosting algorithm\n",
    "* Evaluation the effectiveness of the model\n",
    "* Model deployment\n",
    "* Endpoint validation\n",
    "\n",
    "---\n",
    "\n",
    "\n",
    "\n"
   ]
  },
  {
   "cell_type": "markdown",
   "id": "da7e36f9-9c07-4ed5-aa44-713193c97a8c",
   "metadata": {
    "tags": []
   },
   "source": [
    "## Setup"
   ]
  },
  {
   "cell_type": "code",
   "execution_count": 3,
   "id": "bc913a59-ed28-4ffd-a5dc-4060e099510e",
   "metadata": {},
   "outputs": [
    {
     "name": "stdout",
     "output_type": "stream",
     "text": [
      "Collecting kaggle\n",
      "  Using cached kaggle-1.5.13-py3-none-any.whl\n",
      "Requirement already satisfied: six>=1.10 in /opt/conda/lib/python3.7/site-packages (from kaggle) (1.14.0)\n",
      "Requirement already satisfied: certifi in /opt/conda/lib/python3.7/site-packages (from kaggle) (2023.5.7)\n",
      "Requirement already satisfied: python-dateutil in /opt/conda/lib/python3.7/site-packages (from kaggle) (2.8.2)\n",
      "Requirement already satisfied: requests in /opt/conda/lib/python3.7/site-packages (from kaggle) (2.31.0)\n",
      "Requirement already satisfied: tqdm in /opt/conda/lib/python3.7/site-packages (from kaggle) (4.42.1)\n",
      "Collecting python-slugify (from kaggle)\n",
      "  Using cached python_slugify-8.0.1-py2.py3-none-any.whl (9.7 kB)\n",
      "Requirement already satisfied: urllib3 in /opt/conda/lib/python3.7/site-packages (from kaggle) (2.0.3)\n",
      "Collecting text-unidecode>=1.3 (from python-slugify->kaggle)\n",
      "  Using cached text_unidecode-1.3-py2.py3-none-any.whl (78 kB)\n",
      "Requirement already satisfied: charset-normalizer<4,>=2 in /opt/conda/lib/python3.7/site-packages (from requests->kaggle) (2.0.4)\n",
      "Requirement already satisfied: idna<4,>=2.5 in /opt/conda/lib/python3.7/site-packages (from requests->kaggle) (2.8)\n",
      "Installing collected packages: text-unidecode, python-slugify, kaggle\n",
      "Successfully installed kaggle-1.5.13 python-slugify-8.0.1 text-unidecode-1.3\n",
      "\u001b[33mWARNING: Running pip as the 'root' user can result in broken permissions and conflicting behaviour with the system package manager. It is recommended to use a virtual environment instead: https://pip.pypa.io/warnings/venv\u001b[0m\u001b[33m\n",
      "\u001b[0m"
     ]
    }
   ],
   "source": [
    "!pip install kaggle"
   ]
  },
  {
   "cell_type": "code",
   "execution_count": 2,
   "id": "04da4759-b077-4fb4-832b-31a5050cef5e",
   "metadata": {},
   "outputs": [
    {
     "name": "stdout",
     "output_type": "stream",
     "text": [
      "mv: cannot stat './kaggle.json': No such file or directory\n"
     ]
    }
   ],
   "source": [
    "#Set up Kaggle API\n",
    "!mv ./kaggle.json /root/.kaggle\n",
    "!chmod 600 /root/.kaggle/kaggle.json"
   ]
  },
  {
   "cell_type": "code",
   "execution_count": 2,
   "id": "841ed104-4fbb-4915-924a-9d2f68da5476",
   "metadata": {
    "tags": []
   },
   "outputs": [],
   "source": [
    "#Import libraries\n",
    "\n",
    "import numpy as np\n",
    "import pandas as pd \n",
    "import matplotlib.ticker as mtick \n",
    "import matplotlib.pyplot as plt\n",
    "import seaborn as sns \n",
    "\n",
    "from time import gmtime, strftime\n",
    "import json\n",
    "import os\n",
    "import zipfile\n",
    "\n",
    "import sagemaker\n",
    "from sagemaker import get_execution_role\n",
    "import boto3\n",
    "import re\n",
    "\n",
    "\n",
    "sns.set(style = 'white')\n",
    "%matplotlib inline\n",
    "\n"
   ]
  },
  {
   "cell_type": "code",
   "execution_count": 3,
   "id": "61bff89f-a84c-4984-a457-1fec7fd3d823",
   "metadata": {
    "tags": []
   },
   "outputs": [],
   "source": [
    "bucket=sagemaker.Session().default_bucket()\n",
    "prefix='sagemaker/xgbootst-dm'\n",
    "\n"
   ]
  },
  {
   "cell_type": "code",
   "execution_count": 4,
   "id": "f62c63c0-8cca-40e6-93e1-7409b376a9a0",
   "metadata": {
    "tags": []
   },
   "outputs": [],
   "source": [
    "# Import or install the Data Wrangler widget to show automatic visualization and generate code to fix data quality issues\n",
    "\n",
    "try:\n",
    "    import sagemaker_datawrangler\n",
    "except ImportError:\n",
    "    !pip install --upgrade sagemaker-datawrangler\n",
    "    import sagemaker_datawrangler"
   ]
  },
  {
   "cell_type": "code",
   "execution_count": 7,
   "id": "b96bc6ca-d894-497f-8634-34524b6c81d2",
   "metadata": {
    "tags": []
   },
   "outputs": [
    {
     "name": "stdout",
     "output_type": "stream",
     "text": [
      "/bin/bash: kaggle: command not found\n"
     ]
    }
   ],
   "source": [
    "#download the dataset from kaggle and unzip it\n",
    "!kaggle datasets download -d blastchar/telco-customer-churn --unzip"
   ]
  },
  {
   "cell_type": "markdown",
   "id": "edaaa42b-ae44-41df-844e-a6dde8eb4fdc",
   "metadata": {},
   "source": [
    "### DataExploration\n",
    "Let us first start with exploring our data set, to better understand the patterns in the data and potentially form some hypothesis. First we will look at the distribution of individual variables and then slice and dice our data for any interesting trends."
   ]
  },
  {
   "cell_type": "code",
   "execution_count": 5,
   "id": "6165a1de-7e10-4d99-8daf-0528ab760ad8",
   "metadata": {
    "tags": []
   },
   "outputs": [
    {
     "data": {
      "application/vnd.jupyter.widget-view+json": {
       "model_id": "e8de6d5f4e6d487ebf330323f692ffd3"
      },
      "text/plain": [
       "   customerID  gender  SeniorCitizen Partner Dependents  tenure PhoneService  \\\n",
       "0  7590-VHVEG  Female              0     Yes         No       1           No   \n",
       "1  5575-GNVDE    Male              0      No         No      34          Yes   \n",
       "2  3668-QPYBK    Male              0      No         No       2          Yes   \n",
       "3  7795-CFOCW    Male              0      No         No      45           No   \n",
       "4  9237-HQITU  Female              0      No         No       2          Yes   \n",
       "\n",
       "      MultipleLines InternetService OnlineSecurity OnlineBackup  \\\n",
       "0  No phone service             DSL             No          Yes   \n",
       "1                No             DSL            Yes           No   \n",
       "2                No             DSL            Yes          Yes   \n",
       "3  No phone service             DSL            Yes           No   \n",
       "4                No     Fiber optic             No           No   \n",
       "\n",
       "  DeviceProtection TechSupport StreamingTV StreamingMovies        Contract  \\\n",
       "0               No          No          No              No  Month-to-month   \n",
       "1              Yes          No          No              No        One year   \n",
       "2               No          No          No              No  Month-to-month   \n",
       "3              Yes         Yes          No              No        One year   \n",
       "4               No          No          No              No  Month-to-month   \n",
       "\n",
       "  PaperlessBilling              PaymentMethod  MonthlyCharges TotalCharges  \\\n",
       "0              Yes           Electronic check           29.85        29.85   \n",
       "1               No               Mailed check           56.95       1889.5   \n",
       "2              Yes               Mailed check           53.85       108.15   \n",
       "3               No  Bank transfer (automatic)           42.30      1840.75   \n",
       "4              Yes           Electronic check           70.70       151.65   \n",
       "\n",
       "  Churn  \n",
       "0    No  \n",
       "1    No  \n",
       "2   Yes  \n",
       "3    No  \n",
       "4   Yes  "
      ]
     },
     "metadata": {},
     "output_type": "display_data"
    }
   ],
   "source": [
    "df = pd.read_csv('./WA_Fn-UseC_-Telco-Customer-Churn.csv')\n",
    "pd.set_option('display.max_columns', 500) \n",
    "df.head()"
   ]
  },
  {
   "cell_type": "markdown",
   "id": "88db7626-d7c5-47ea-9eb5-a954a7277d1a",
   "metadata": {
    "tags": []
   },
   "source": [
    "Data Wrangler provided a quick overview of all features with the suggestion to drop some columns that looked like ID or had one unique value.<br>\n",
    "Let's follow the recommendation and drop these columns, but we will keep MonthlyCharges and TotalCharges column because they potentially may impact churn rate."
   ]
  },
  {
   "cell_type": "code",
   "execution_count": 6,
   "id": "7e09515e-389b-4cd5-a919-cbb1c1fb8829",
   "metadata": {
    "tags": []
   },
   "outputs": [],
   "source": [
    "df = df.drop(['customerID','Dependents','StreamingTV','StreamingMovies'], axis = 1)"
   ]
  },
  {
   "cell_type": "code",
   "execution_count": 7,
   "id": "07ad93e5-5a85-487a-a05c-1a2ea01d7f43",
   "metadata": {},
   "outputs": [
    {
     "name": "stdout",
     "output_type": "stream",
     "text": [
      "<class 'pandas.core.frame.DataFrame'>\n",
      "RangeIndex: 7043 entries, 0 to 7042\n",
      "Data columns (total 17 columns):\n",
      " #   Column            Non-Null Count  Dtype  \n",
      "---  ------            --------------  -----  \n",
      " 0   gender            7043 non-null   object \n",
      " 1   SeniorCitizen     7043 non-null   int64  \n",
      " 2   Partner           7043 non-null   object \n",
      " 3   tenure            7043 non-null   int64  \n",
      " 4   PhoneService      7043 non-null   object \n",
      " 5   MultipleLines     7043 non-null   object \n",
      " 6   InternetService   7043 non-null   object \n",
      " 7   OnlineSecurity    7043 non-null   object \n",
      " 8   OnlineBackup      7043 non-null   object \n",
      " 9   DeviceProtection  7043 non-null   object \n",
      " 10  TechSupport       7043 non-null   object \n",
      " 11  Contract          7043 non-null   object \n",
      " 12  PaperlessBilling  7043 non-null   object \n",
      " 13  PaymentMethod     7043 non-null   object \n",
      " 14  MonthlyCharges    7043 non-null   float64\n",
      " 15  TotalCharges      7043 non-null   object \n",
      " 16  Churn             7043 non-null   object \n",
      "dtypes: float64(1), int64(2), object(14)\n",
      "memory usage: 935.5+ KB\n"
     ]
    }
   ],
   "source": [
    "# Checking the data types of all the columns\n",
    "df.info()"
   ]
  },
  {
   "cell_type": "code",
   "execution_count": 11,
   "id": "b805d312-a5cc-4511-a038-114605336c34",
   "metadata": {
    "tags": []
   },
   "outputs": [
    {
     "data": {
      "text/plain": [
       "(7043, 17)"
      ]
     },
     "execution_count": 11,
     "metadata": {},
     "output_type": "execute_result"
    }
   ],
   "source": [
    "df.shape"
   ]
  },
  {
   "cell_type": "code",
   "execution_count": 8,
   "id": "3174fb62-8e00-4b10-b1a0-5a199b51515f",
   "metadata": {
    "tags": []
   },
   "outputs": [
    {
     "data": {
      "text/plain": [
       "gender               0\n",
       "SeniorCitizen        0\n",
       "Partner              0\n",
       "tenure               0\n",
       "PhoneService         0\n",
       "MultipleLines        0\n",
       "InternetService      0\n",
       "OnlineSecurity       0\n",
       "OnlineBackup         0\n",
       "DeviceProtection     0\n",
       "TechSupport          0\n",
       "Contract             0\n",
       "PaperlessBilling     0\n",
       "PaymentMethod        0\n",
       "MonthlyCharges       0\n",
       "TotalCharges        11\n",
       "Churn                0\n",
       "dtype: int64"
      ]
     },
     "execution_count": 8,
     "metadata": {},
     "output_type": "execute_result"
    }
   ],
   "source": [
    "# Converting Total Charges to a numerical data type.\n",
    "df.TotalCharges = pd.to_numeric(df.TotalCharges, errors='coerce')\n",
    "df.isnull().sum()"
   ]
  },
  {
   "cell_type": "code",
   "execution_count": 9,
   "id": "6583dfb0-5f96-44e5-880d-3c5d7eac48bd",
   "metadata": {
    "tags": []
   },
   "outputs": [],
   "source": [
    "#Removing missing values \n",
    "df.dropna(inplace = True)"
   ]
  },
  {
   "cell_type": "code",
   "execution_count": 10,
   "id": "fa88ac12-76cd-4602-a129-8a36d348e3eb",
   "metadata": {
    "tags": []
   },
   "outputs": [
    {
     "data": {
      "text/plain": [
       "gender              0\n",
       "SeniorCitizen       0\n",
       "Partner             0\n",
       "tenure              0\n",
       "PhoneService        0\n",
       "MultipleLines       0\n",
       "InternetService     0\n",
       "OnlineSecurity      0\n",
       "OnlineBackup        0\n",
       "DeviceProtection    0\n",
       "TechSupport         0\n",
       "Contract            0\n",
       "PaperlessBilling    0\n",
       "PaymentMethod       0\n",
       "MonthlyCharges      0\n",
       "TotalCharges        0\n",
       "Churn               0\n",
       "dtype: int64"
      ]
     },
     "execution_count": 10,
     "metadata": {},
     "output_type": "execute_result"
    }
   ],
   "source": [
    "df.isnull().sum()"
   ]
  },
  {
   "cell_type": "code",
   "execution_count": 11,
   "id": "909f4145-fc89-441c-a442-287ff2f25f3c",
   "metadata": {
    "tags": []
   },
   "outputs": [
    {
     "data": {
      "image/png": "[encoded data removed]",
      "text/plain": [
       "<Figure size 640x480 with 1 Axes>"
      ]
     },
     "metadata": {},
     "output_type": "display_data"
    }
   ],
   "source": [
    "#Gender Distribution - About half of the customers in our data set are male while the other half are female\n",
    "\n",
    "colors = ['#4D3425','#E4512B']\n",
    "ax = (df['gender'].value_counts()*100.0 /len(df)).plot(kind='bar',\n",
    "                                                                           stacked = True,\n",
    "                                                                          rot = 0,\n",
    "                                                                          color = colors)\n",
    "ax.yaxis.set_major_formatter(mtick.PercentFormatter())\n",
    "ax.set_ylabel('% Customers')\n",
    "ax.set_xlabel('Gender')\n",
    "ax.set_ylabel('% Customers')\n",
    "ax.set_title('Gender Distribution')\n",
    "\n",
    "# create a list to collect the plt.patches data\n",
    "totals = []\n",
    "\n",
    "# find the values and append to list\n",
    "for i in ax.patches:\n",
    "    totals.append(i.get_width())\n",
    "\n",
    "# set individual bar lables using above list\n",
    "total = sum(totals)\n",
    "\n",
    "for i in ax.patches:\n",
    "    # get_width pulls left or right; get_y pushes up or down\n",
    "    ax.text(i.get_x()+.15, i.get_height()-3.5, \\\n",
    "            str(round((i.get_height()/total), 1))+'%',\n",
    "            fontsize=12,\n",
    "            color='white',\n",
    "           weight = 'bold')"
   ]
  },
  {
   "cell_type": "code",
   "execution_count": 12,
   "id": "80e6e360-64c7-4ffa-a374-f56ef42963f0",
   "metadata": {
    "tags": []
   },
   "outputs": [
    {
     "data": {
      "text/plain": [
       "Text(0.5, 1.0, '% of Senior Citizens')"
      ]
     },
     "execution_count": 12,
     "metadata": {},
     "output_type": "execute_result"
    },
    {
     "data": {
      "image/png": "[encoded data removed]",
      "text/plain": [
       "<Figure size 500x500 with 1 Axes>"
      ]
     },
     "metadata": {},
     "output_type": "display_data"
    }
   ],
   "source": [
    "# % Senior Citizens - There are only 16% of the customers who are senior citizens. Thus most of our customers in the data are younger people.\n",
    "\n",
    "ax = (df['SeniorCitizen'].value_counts()*100.0 /len(df))\\\n",
    ".plot.pie(autopct='%.1f%%', labels = ['No', 'Yes'],figsize =(5,5), fontsize = 12 )                                                                           \n",
    "ax.yaxis.set_major_formatter(mtick.PercentFormatter())\n",
    "ax.set_ylabel('Senior Citizens',fontsize = 12)\n",
    "ax.set_title('% of Senior Citizens', fontsize = 12)"
   ]
  },
  {
   "cell_type": "code",
   "execution_count": 13,
   "id": "42b0f088-575c-4aca-b446-be6af63053c8",
   "metadata": {
    "tags": []
   },
   "outputs": [
    {
     "data": {
      "text/plain": [
       "Text(0.5, 1.0, '# of Customers by their tenure')"
      ]
     },
     "execution_count": 13,
     "metadata": {},
     "output_type": "execute_result"
    },
    {
     "data": {
      "image/png": "[encoded data removed]",
      "text/plain": [
       "<Figure size 640x480 with 1 Axes>"
      ]
     },
     "metadata": {},
     "output_type": "display_data"
    }
   ],
   "source": [
    "#Tenure: There are a lot of customers have been with the telecom company for just a month, while quite a many are there for about 72 months. \n",
    "\n",
    "ax = sns.distplot(df['tenure'], hist=True, kde=False, \n",
    "             bins=int(180/5), color = 'darkblue', \n",
    "             hist_kws={'edgecolor':'black'},\n",
    "             kde_kws={'linewidth': 4})\n",
    "ax.set_ylabel('# of Customers')\n",
    "ax.set_xlabel('Tenure (months)')\n",
    "ax.set_title('# of Customers by their tenure')"
   ]
  },
  {
   "cell_type": "code",
   "execution_count": 14,
   "id": "898f38e7-692d-47fc-af8e-3ea581155253",
   "metadata": {
    "tags": []
   },
   "outputs": [
    {
     "data": {
      "text/plain": [
       "Text(0.5, 1.0, '# of Customers by Contract Type')"
      ]
     },
     "execution_count": 14,
     "metadata": {},
     "output_type": "execute_result"
    },
    {
     "data": {
      "image/png": "[encoded data removed]",
      "text/plain": [
       "<Figure size 640x480 with 1 Axes>"
      ]
     },
     "metadata": {},
     "output_type": "display_data"
    }
   ],
   "source": [
    "# Number of customers by different contracts.\n",
    "ax = df['Contract'].value_counts().plot(kind = 'bar',rot = 0, width = 0.3)\n",
    "ax.set_ylabel('# of Customers')\n",
    "ax.set_title('# of Customers by Contract Type')"
   ]
  },
  {
   "cell_type": "code",
   "execution_count": 15,
   "id": "c250972e-d12d-475b-8307-52e42d232552",
   "metadata": {
    "tags": []
   },
   "outputs": [
    {
     "data": {
      "image/png": "[encoded data removed]",
      "text/plain": [
       "<Figure size 800x600 with 1 Axes>"
      ]
     },
     "metadata": {},
     "output_type": "display_data"
    }
   ],
   "source": [
    "# The below is the Churn distribution\n",
    "\n",
    "colors = ['#4D3425','#E4512B']\n",
    "ax = (df['Churn'].value_counts()*100.0 /len(df)).plot(kind='bar', stacked = True, rot = 0, color = colors, figsize = (8,6))\n",
    "ax.yaxis.set_major_formatter(mtick.PercentFormatter())\n",
    "ax.set_ylabel('% Customers',size = 14)\n",
    "ax.set_xlabel('Churn',size = 14)\n",
    "ax.set_title('Churn Rate', size = 14)\n",
    "\n",
    "# create a list to collect the plt.patches data\n",
    "totals = []\n",
    "\n",
    "# find the values and append to list\n",
    "for i in ax.patches:\n",
    "    totals.append(i.get_width())\n",
    "\n",
    "# set individual bar lables using above list\n",
    "total = sum(totals)\n",
    "\n",
    "for i in ax.patches:\n",
    "    # get_width pulls left or right; get_y pushes up or down\n",
    "    ax.text(i.get_x()+.15, i.get_height()-4.0, \\\n",
    "            str(round((i.get_height()/total), 1))+'%',\n",
    "            fontsize=12,\n",
    "            color='white',\n",
    "           weight = 'bold',\n",
    "           size = 14)"
   ]
  },
  {
   "cell_type": "markdown",
   "id": "6d7f6bd6-1c72-4279-9d9d-0cc3a94f6c42",
   "metadata": {},
   "source": [
    "## DataPreparation\n",
    "\n",
    "Before we train the model, let's prepare the data"
   ]
  },
  {
   "cell_type": "code",
   "execution_count": 16,
   "id": "c854ca90-5dcc-4759-bcde-78af4ae36367",
   "metadata": {
    "tags": []
   },
   "outputs": [],
   "source": [
    "#Convertin the predictor variable in a binary numeric variable\n",
    "df['Churn'].replace(to_replace='Yes', value=1, inplace=True)\n",
    "df['Churn'].replace(to_replace='No',  value=0, inplace=True)"
   ]
  },
  {
   "cell_type": "code",
   "execution_count": 17,
   "id": "c575eccf-f561-47f4-b40d-93340f739e8a",
   "metadata": {
    "tags": []
   },
   "outputs": [
    {
     "data": {
      "application/vnd.jupyter.widget-view+json": {
       "model_id": "7568838cd52d40f8981ae842a88f29d0"
      },
      "text/plain": [
       "   SeniorCitizen  tenure  MonthlyCharges  TotalCharges  Churn  gender_Female  \\\n",
       "0              0       1           29.85         29.85      0              1   \n",
       "1              0      34           56.95       1889.50      0              0   \n",
       "2              0       2           53.85        108.15      1              0   \n",
       "3              0      45           42.30       1840.75      0              0   \n",
       "4              0       2           70.70        151.65      1              1   \n",
       "\n",
       "   gender_Male  Partner_No  Partner_Yes  PhoneService_No  PhoneService_Yes  \\\n",
       "0            0           0            1                1                 0   \n",
       "1            1           1            0                0                 1   \n",
       "2            1           1            0                0                 1   \n",
       "3            1           1            0                1                 0   \n",
       "4            0           1            0                0                 1   \n",
       "\n",
       "   MultipleLines_No  MultipleLines_No phone service  MultipleLines_Yes  \\\n",
       "0                 0                               1                  0   \n",
       "1                 1                               0                  0   \n",
       "2                 1                               0                  0   \n",
       "3                 0                               1                  0   \n",
       "4                 1                               0                  0   \n",
       "\n",
       "   InternetService_DSL  InternetService_Fiber optic  InternetService_No  \\\n",
       "0                    1                            0                   0   \n",
       "1                    1                            0                   0   \n",
       "2                    1                            0                   0   \n",
       "3                    1                            0                   0   \n",
       "4                    0                            1                   0   \n",
       "\n",
       "   OnlineSecurity_No  OnlineSecurity_No internet service  OnlineSecurity_Yes  \\\n",
       "0                  1                                   0                   0   \n",
       "1                  0                                   0                   1   \n",
       "2                  0                                   0                   1   \n",
       "3                  0                                   0                   1   \n",
       "4                  1                                   0                   0   \n",
       "\n",
       "   OnlineBackup_No  OnlineBackup_No internet service  OnlineBackup_Yes  \\\n",
       "0                0                                 0                 1   \n",
       "1                1                                 0                 0   \n",
       "2                0                                 0                 1   \n",
       "3                1                                 0                 0   \n",
       "4                1                                 0                 0   \n",
       "\n",
       "   DeviceProtection_No  DeviceProtection_No internet service  \\\n",
       "0                    1                                     0   \n",
       "1                    0                                     0   \n",
       "2                    1                                     0   \n",
       "3                    0                                     0   \n",
       "4                    1                                     0   \n",
       "\n",
       "   DeviceProtection_Yes  TechSupport_No  TechSupport_No internet service  \\\n",
       "0                     0               1                                0   \n",
       "1                     1               1                                0   \n",
       "2                     0               1                                0   \n",
       "3                     1               0                                0   \n",
       "4                     0               1                                0   \n",
       "\n",
       "   TechSupport_Yes  Contract_Month-to-month  Contract_One year  \\\n",
       "0                0                        1                  0   \n",
       "1                0                        0                  1   \n",
       "2                0                        1                  0   \n",
       "3                1                        0                  1   \n",
       "4                0                        1                  0   \n",
       "\n",
       "   Contract_Two year  PaperlessBilling_No  PaperlessBilling_Yes  \\\n",
       "0                  0                    0                     1   \n",
       "1                  0                    1                     0   \n",
       "2                  0                    0                     1   \n",
       "3                  0                    1                     0   \n",
       "4                  0                    0                     1   \n",
       "\n",
       "   PaymentMethod_Bank transfer (automatic)  \\\n",
       "0                                        0   \n",
       "1                                        0   \n",
       "2                                        0   \n",
       "3                                        1   \n",
       "4                                        0   \n",
       "\n",
       "   PaymentMethod_Credit card (automatic)  PaymentMethod_Electronic check  \\\n",
       "0                                      0                               1   \n",
       "1                                      0                               0   \n",
       "2                                      0                               0   \n",
       "3                                      0                               0   \n",
       "4                                      0                               1   \n",
       "\n",
       "   PaymentMethod_Mailed check  \n",
       "0                           0  \n",
       "1                           1  \n",
       "2                           1  \n",
       "3                           0  \n",
       "4                           0  "
      ]
     },
     "metadata": {},
     "output_type": "display_data"
    }
   ],
   "source": [
    "#Convert all the categorical variables into dummy variables\n",
    "model_data = pd.get_dummies(df)\n",
    "model_data.head()"
   ]
  },
  {
   "cell_type": "code",
   "execution_count": 18,
   "id": "6cfead82-1e39-4bf6-84d6-3ce270b2b99e",
   "metadata": {
    "tags": []
   },
   "outputs": [
    {
     "data": {
      "text/plain": [
       "<matplotlib.axes._subplots.AxesSubplot at 0x7f8c1cde2350>"
      ]
     },
     "execution_count": 18,
     "metadata": {},
     "output_type": "execute_result"
    },
    {
     "data": {
      "image/png": "[encoded data removed]",
      "text/plain": [
       "<Figure size 1500x800 with 1 Axes>"
      ]
     },
     "metadata": {},
     "output_type": "display_data"
    }
   ],
   "source": [
    "#Get Correlation of \"Churn\" with other variables:\n",
    "plt.figure(figsize=(15,8))\n",
    "model_data.corr()['Churn'].sort_values(ascending = False).plot(kind='bar')"
   ]
  },
  {
   "cell_type": "markdown",
   "id": "64340c49-f207-456a-a70a-c340eb2669bd",
   "metadata": {},
   "source": [
    "Month to month contracts, absence of online security and tech support seem to be positively correlated with churn. <br> While, tenure, two year contracts seem to be negatively correlated with churn."
   ]
  },
  {
   "cell_type": "code",
   "execution_count": 19,
   "id": "95066d9a-605e-42bb-b45f-b2c7b622b5de",
   "metadata": {
    "tags": []
   },
   "outputs": [],
   "source": [
    "# Let's drop features that are less correlated\n",
    "\n",
    "model_data = model_data.drop(['MultipleLines_No','MultipleLines_Yes','PhoneService_No','PhoneService_Yes','gender_Female','gender_Male'], axis = 1)"
   ]
  },
  {
   "cell_type": "markdown",
   "id": "6888b81b-de21-415c-8eb4-dfe6f0bd0349",
   "metadata": {},
   "source": [
    "## Training\n",
    "\n",
    "After data is prepared it is time to train the model."
   ]
  },
  {
   "cell_type": "code",
   "execution_count": 20,
   "id": "7e38bcc6-86dd-41a1-a2ac-4bd143983357",
   "metadata": {
    "tags": []
   },
   "outputs": [],
   "source": [
    "# Let's split the data set into 3 channels: train, test, validation set:\n",
    "train_data,validation_data,test_data=np.split(model_data.sample(frac=1, random_state=1729),[int(0.7*len(model_data)),int(0.9*len(model_data))])"
   ]
  },
  {
   "cell_type": "code",
   "execution_count": 21,
   "id": "c8dd26a5-e806-4b04-9cf8-7ee365cb8086",
   "metadata": {},
   "outputs": [],
   "source": [
    "# Amazon SageMaker XGBoost algorithm expects data to be in libSVM or CSV format (without header) and the first column must be the target variable. So in this step we transform the data accordingly\n",
    "pd.concat([train_data['Churn'],train_data.drop(['Churn'],axis=1)],axis=1).to_csv('train.csv',index=False,header=False)\n",
    "pd.concat([validation_data['Churn'],validation_data.drop(['Churn'],axis=1)],axis=1).to_csv('validation.csv',index=False,header=False)"
   ]
  },
  {
   "cell_type": "code",
   "execution_count": 22,
   "id": "f627af7b-bc36-4e38-981c-99a04b86e4b2",
   "metadata": {
    "tags": []
   },
   "outputs": [],
   "source": [
    "# Upload train and validation files to S3 bucket\n",
    "boto3.Session().resource ('s3').Bucket(bucket).Object(os.path.join(prefix,'train/train.csv')).upload_file('train.csv')\n",
    "boto3.Session().resource ('s3').Bucket(bucket).Object(os.path.join(prefix,'validation/validation.csv')).upload_file('validation.csv')"
   ]
  },
  {
   "cell_type": "code",
   "execution_count": 23,
   "id": "9a40b2ec-e4c2-4dbe-b68b-79027d98299c",
   "metadata": {
    "tags": []
   },
   "outputs": [],
   "source": [
    "role=get_execution_role()"
   ]
  },
  {
   "cell_type": "code",
   "execution_count": 24,
   "id": "85000775-21b2-4f2a-9866-de874bde941b",
   "metadata": {
    "tags": []
   },
   "outputs": [],
   "source": [
    "# Specify XGBoost ECR container \n",
    "container=sagemaker.image_uris.retrieve(region=boto3.Session().region_name,framework='xgboost',version='latest')"
   ]
  },
  {
   "cell_type": "code",
   "execution_count": 25,
   "id": "d80570ed-ec59-4d94-a4d0-8fad1985dfa2",
   "metadata": {
    "tags": []
   },
   "outputs": [],
   "source": [
    "s3_input_train=sagemaker.inputs.TrainingInput(s3_data='s3://{}/{}/train'.format(bucket,prefix),content_type='csv')\n",
    "s3_input_validation=sagemaker.inputs.TrainingInput(s3_data='s3://{}/{}/validation'.format(bucket,prefix),content_type='csv')"
   ]
  },
  {
   "cell_type": "code",
   "execution_count": 26,
   "id": "087ac959-f058-4756-8c31-a78ae872d8e4",
   "metadata": {
    "tags": []
   },
   "outputs": [
    {
     "name": "stdout",
     "output_type": "stream",
     "text": [
      "2023-07-17 22:15:13 Starting - Starting the training job...\n",
      "2023-07-17 22:15:38 Starting - Preparing the instances for training......\n",
      "2023-07-17 22:16:36 Downloading - Downloading input data...\n",
      "2023-07-17 22:17:06 Training - Downloading the training image......\n",
      "2023-07-17 22:18:12 Uploading - Uploading generated training model\u001b[34mArguments: train\u001b[0m\n",
      "\u001b[34m[2023-07-17:22:18:05:INFO] Running standalone xgboost training.\u001b[0m\n",
      "\u001b[34m[2023-07-17:22:18:05:INFO] File size need to be processed in the node: 0.44mb. Available memory size in the node: 8580.3mb\u001b[0m\n",
      "\u001b[34m[2023-07-17:22:18:05:INFO] Determined delimiter of CSV input is ','\u001b[0m\n",
      "\u001b[34m[22:18:05] S3DistributionType set as FullyReplicated\u001b[0m\n",
      "\u001b[34m[22:18:05] 4922x31 matrix with 152582 entries loaded from /opt/ml/input/data/train?format=csv&label_column=0&delimiter=,\u001b[0m\n",
      "\u001b[34m[2023-07-17:22:18:05:INFO] Determined delimiter of CSV input is ','\u001b[0m\n",
      "\u001b[34m[22:18:05] S3DistributionType set as FullyReplicated\u001b[0m\n",
      "\u001b[34m[22:18:05] 1406x31 matrix with 43586 entries loaded from /opt/ml/input/data/validation?format=csv&label_column=0&delimiter=,\u001b[0m\n",
      "\u001b[34m[22:18:05] src/tree/updater_prune.cc:74: tree pruning end, 1 roots, 32 extra nodes, 10 pruned nodes, max_depth=5\u001b[0m\n",
      "\u001b[34m[0]#011train-error:0.210484#011validation-error:0.219061\u001b[0m\n",
      "\u001b[34m[22:18:05] src/tree/updater_prune.cc:74: tree pruning end, 1 roots, 30 extra nodes, 18 pruned nodes, max_depth=5\u001b[0m\n",
      "\u001b[34m[1]#011train-error:0.198903#011validation-error:0.199858\u001b[0m\n",
      "\u001b[34m[22:18:05] src/tree/updater_prune.cc:74: tree pruning end, 1 roots, 28 extra nodes, 18 pruned nodes, max_depth=5\u001b[0m\n",
      "\u001b[34m[2]#011train-error:0.200731#011validation-error:0.204836\u001b[0m\n",
      "\u001b[34m[22:18:05] src/tree/updater_prune.cc:74: tree pruning end, 1 roots, 28 extra nodes, 20 pruned nodes, max_depth=5\u001b[0m\n",
      "\u001b[34m[3]#011train-error:0.195652#011validation-error:0.197724\u001b[0m\n",
      "\u001b[34m[22:18:05] src/tree/updater_prune.cc:74: tree pruning end, 1 roots, 36 extra nodes, 18 pruned nodes, max_depth=5\u001b[0m\n",
      "\u001b[34m[4]#011train-error:0.192401#011validation-error:0.196302\u001b[0m\n",
      "\u001b[34m[22:18:05] src/tree/updater_prune.cc:74: tree pruning end, 1 roots, 30 extra nodes, 28 pruned nodes, max_depth=5\u001b[0m\n",
      "\u001b[34m[5]#011train-error:0.192401#011validation-error:0.196302\u001b[0m\n",
      "\u001b[34m[22:18:05] src/tree/updater_prune.cc:74: tree pruning end, 1 roots, 28 extra nodes, 26 pruned nodes, max_depth=5\u001b[0m\n",
      "\u001b[34m[6]#011train-error:0.190573#011validation-error:0.194879\u001b[0m\n",
      "\u001b[34m[22:18:05] src/tree/updater_prune.cc:74: tree pruning end, 1 roots, 28 extra nodes, 24 pruned nodes, max_depth=5\u001b[0m\n",
      "\u001b[34m[7]#011train-error:0.190776#011validation-error:0.198435\u001b[0m\n",
      "\u001b[34m[22:18:05] src/tree/updater_prune.cc:74: tree pruning end, 1 roots, 32 extra nodes, 22 pruned nodes, max_depth=5\u001b[0m\n",
      "\u001b[34m[8]#011train-error:0.187932#011validation-error:0.19559\u001b[0m\n",
      "\u001b[34m[22:18:05] src/tree/updater_prune.cc:74: tree pruning end, 1 roots, 20 extra nodes, 22 pruned nodes, max_depth=5\u001b[0m\n",
      "\u001b[34m[9]#011train-error:0.188135#011validation-error:0.198435\u001b[0m\n",
      "\u001b[34m[22:18:05] src/tree/updater_prune.cc:74: tree pruning end, 1 roots, 20 extra nodes, 24 pruned nodes, max_depth=5\u001b[0m\n",
      "\u001b[34m[10]#011train-error:0.186916#011validation-error:0.196302\u001b[0m\n",
      "\u001b[34m[22:18:05] src/tree/updater_prune.cc:74: tree pruning end, 1 roots, 26 extra nodes, 16 pruned nodes, max_depth=5\u001b[0m\n",
      "\u001b[34m[11]#011train-error:0.18651#011validation-error:0.199147\u001b[0m\n",
      "\u001b[34m[22:18:05] src/tree/updater_prune.cc:74: tree pruning end, 1 roots, 14 extra nodes, 24 pruned nodes, max_depth=5\u001b[0m\n",
      "\u001b[34m[12]#011train-error:0.185291#011validation-error:0.19559\u001b[0m\n",
      "\u001b[34m[22:18:05] src/tree/updater_prune.cc:74: tree pruning end, 1 roots, 18 extra nodes, 32 pruned nodes, max_depth=5\u001b[0m\n",
      "\u001b[34m[13]#011train-error:0.185087#011validation-error:0.194168\u001b[0m\n",
      "\u001b[34m[22:18:05] src/tree/updater_prune.cc:74: tree pruning end, 1 roots, 30 extra nodes, 14 pruned nodes, max_depth=5\u001b[0m\n",
      "\u001b[34m[14]#011train-error:0.186103#011validation-error:0.196302\u001b[0m\n",
      "\u001b[34m[22:18:05] src/tree/updater_prune.cc:74: tree pruning end, 1 roots, 20 extra nodes, 22 pruned nodes, max_depth=5\u001b[0m\n",
      "\u001b[34m[15]#011train-error:0.186713#011validation-error:0.196302\u001b[0m\n",
      "\u001b[34m[22:18:05] src/tree/updater_prune.cc:74: tree pruning end, 1 roots, 18 extra nodes, 12 pruned nodes, max_depth=5\u001b[0m\n",
      "\u001b[34m[16]#011train-error:0.185494#011validation-error:0.196302\u001b[0m\n",
      "\u001b[34m[22:18:05] src/tree/updater_prune.cc:74: tree pruning end, 1 roots, 16 extra nodes, 18 pruned nodes, max_depth=5\u001b[0m\n",
      "\u001b[34m[17]#011train-error:0.184275#011validation-error:0.197013\u001b[0m\n",
      "\u001b[34m[22:18:05] src/tree/updater_prune.cc:74: tree pruning end, 1 roots, 2 extra nodes, 30 pruned nodes, max_depth=1\u001b[0m\n",
      "\u001b[34m[18]#011train-error:0.184275#011validation-error:0.197013\u001b[0m\n",
      "\u001b[34m[22:18:05] src/tree/updater_prune.cc:74: tree pruning end, 1 roots, 26 extra nodes, 20 pruned nodes, max_depth=5\u001b[0m\n",
      "\u001b[34m[19]#011train-error:0.184478#011validation-error:0.194168\u001b[0m\n",
      "\u001b[34m[22:18:05] src/tree/updater_prune.cc:74: tree pruning end, 1 roots, 14 extra nodes, 26 pruned nodes, max_depth=5\u001b[0m\n",
      "\u001b[34m[20]#011train-error:0.183868#011validation-error:0.193457\u001b[0m\n",
      "\u001b[34m[22:18:05] src/tree/updater_prune.cc:74: tree pruning end, 1 roots, 12 extra nodes, 20 pruned nodes, max_depth=4\u001b[0m\n",
      "\u001b[34m[21]#011train-error:0.183665#011validation-error:0.19559\u001b[0m\n",
      "\u001b[34m[22:18:05] src/tree/updater_prune.cc:74: tree pruning end, 1 roots, 16 extra nodes, 0 pruned nodes, max_depth=5\u001b[0m\n",
      "\u001b[34m[22]#011train-error:0.183868#011validation-error:0.193457\u001b[0m\n",
      "\u001b[34m[22:18:05] src/tree/updater_prune.cc:74: tree pruning end, 1 roots, 22 extra nodes, 10 pruned nodes, max_depth=5\u001b[0m\n",
      "\u001b[34m[23]#011train-error:0.184478#011validation-error:0.193457\u001b[0m\n",
      "\u001b[34m[22:18:05] src/tree/updater_prune.cc:74: tree pruning end, 1 roots, 6 extra nodes, 34 pruned nodes, max_depth=3\u001b[0m\n",
      "\u001b[34m[24]#011train-error:0.183868#011validation-error:0.192745\u001b[0m\n",
      "\u001b[34m[22:18:05] src/tree/updater_prune.cc:74: tree pruning end, 1 roots, 16 extra nodes, 18 pruned nodes, max_depth=4\u001b[0m\n",
      "\u001b[34m[25]#011train-error:0.183259#011validation-error:0.193457\u001b[0m\n",
      "\u001b[34m[22:18:05] src/tree/updater_prune.cc:74: tree pruning end, 1 roots, 18 extra nodes, 20 pruned nodes, max_depth=5\u001b[0m\n",
      "\u001b[34m[26]#011train-error:0.181024#011validation-error:0.194879\u001b[0m\n",
      "\u001b[34m[22:18:05] src/tree/updater_prune.cc:74: tree pruning end, 1 roots, 6 extra nodes, 14 pruned nodes, max_depth=3\u001b[0m\n",
      "\u001b[34m[27]#011train-error:0.181024#011validation-error:0.194879\u001b[0m\n",
      "\u001b[34m[22:18:05] src/tree/updater_prune.cc:74: tree pruning end, 1 roots, 24 extra nodes, 20 pruned nodes, max_depth=5\u001b[0m\n",
      "\u001b[34m[28]#011train-error:0.179805#011validation-error:0.193457\u001b[0m\n",
      "\u001b[34m[22:18:05] src/tree/updater_prune.cc:74: tree pruning end, 1 roots, 12 extra nodes, 6 pruned nodes, max_depth=5\u001b[0m\n",
      "\u001b[34m[29]#011train-error:0.179602#011validation-error:0.194168\u001b[0m\n",
      "\u001b[34m[22:18:05] src/tree/updater_prune.cc:74: tree pruning end, 1 roots, 20 extra nodes, 20 pruned nodes, max_depth=5\u001b[0m\n",
      "\u001b[34m[30]#011train-error:0.178586#011validation-error:0.192745\u001b[0m\n",
      "\u001b[34m[22:18:05] src/tree/updater_prune.cc:74: tree pruning end, 1 roots, 0 extra nodes, 24 pruned nodes, max_depth=0\u001b[0m\n",
      "\u001b[34m[31]#011train-error:0.17757#011validation-error:0.194168\u001b[0m\n",
      "\u001b[34m[22:18:05] src/tree/updater_prune.cc:74: tree pruning end, 1 roots, 4 extra nodes, 30 pruned nodes, max_depth=2\u001b[0m\n",
      "\u001b[34m[32]#011train-error:0.177976#011validation-error:0.192745\u001b[0m\n",
      "\u001b[34m[22:18:05] src/tree/updater_prune.cc:74: tree pruning end, 1 roots, 20 extra nodes, 16 pruned nodes, max_depth=5\u001b[0m\n",
      "\u001b[34m[33]#011train-error:0.177367#011validation-error:0.189189\u001b[0m\n",
      "\u001b[34m[22:18:05] src/tree/updater_prune.cc:74: tree pruning end, 1 roots, 0 extra nodes, 10 pruned nodes, max_depth=0\u001b[0m\n",
      "\u001b[34m[34]#011train-error:0.17757#011validation-error:0.189189\u001b[0m\n",
      "\u001b[34m[22:18:05] src/tree/updater_prune.cc:74: tree pruning end, 1 roots, 8 extra nodes, 2 pruned nodes, max_depth=4\u001b[0m\n",
      "\u001b[34m[35]#011train-error:0.176757#011validation-error:0.190612\u001b[0m\n",
      "\u001b[34m[22:18:05] src/tree/updater_prune.cc:74: tree pruning end, 1 roots, 8 extra nodes, 24 pruned nodes, max_depth=4\u001b[0m\n",
      "\u001b[34m[36]#011train-error:0.176757#011validation-error:0.190612\u001b[0m\n",
      "\u001b[34m[22:18:05] src/tree/updater_prune.cc:74: tree pruning end, 1 roots, 8 extra nodes, 22 pruned nodes, max_depth=4\u001b[0m\n",
      "\u001b[34m[37]#011train-error:0.177164#011validation-error:0.1899\u001b[0m\n",
      "\u001b[34m[22:18:05] src/tree/updater_prune.cc:74: tree pruning end, 1 roots, 16 extra nodes, 10 pruned nodes, max_depth=5\u001b[0m\n",
      "\u001b[34m[38]#011train-error:0.175742#011validation-error:0.1899\u001b[0m\n",
      "\u001b[34m[22:18:05] src/tree/updater_prune.cc:74: tree pruning end, 1 roots, 0 extra nodes, 20 pruned nodes, max_depth=0\u001b[0m\n",
      "\u001b[34m[39]#011train-error:0.175538#011validation-error:0.1899\u001b[0m\n",
      "\u001b[34m[22:18:05] src/tree/updater_prune.cc:74: tree pruning end, 1 roots, 12 extra nodes, 10 pruned nodes, max_depth=5\u001b[0m\n",
      "\u001b[34m[40]#011train-error:0.175538#011validation-error:0.189189\u001b[0m\n",
      "\u001b[34m[22:18:05] src/tree/updater_prune.cc:74: tree pruning end, 1 roots, 10 extra nodes, 14 pruned nodes, max_depth=5\u001b[0m\n",
      "\u001b[34m[41]#011train-error:0.175945#011validation-error:0.188478\u001b[0m\n",
      "\u001b[34m[22:18:05] src/tree/updater_prune.cc:74: tree pruning end, 1 roots, 10 extra nodes, 18 pruned nodes, max_depth=5\u001b[0m\n",
      "\u001b[34m[42]#011train-error:0.175335#011validation-error:0.189189\u001b[0m\n",
      "\u001b[34m[22:18:05] src/tree/updater_prune.cc:74: tree pruning end, 1 roots, 0 extra nodes, 12 pruned nodes, max_depth=0\u001b[0m\n",
      "\u001b[34m[43]#011train-error:0.174929#011validation-error:0.189189\u001b[0m\n",
      "\u001b[34m[22:18:05] src/tree/updater_prune.cc:74: tree pruning end, 1 roots, 14 extra nodes, 22 pruned nodes, max_depth=4\u001b[0m\n",
      "\u001b[34m[44]#011train-error:0.174929#011validation-error:0.190612\u001b[0m\n",
      "\u001b[34m[22:18:05] src/tree/updater_prune.cc:74: tree pruning end, 1 roots, 12 extra nodes, 10 pruned nodes, max_depth=5\u001b[0m\n",
      "\u001b[34m[45]#011train-error:0.174116#011validation-error:0.1899\u001b[0m\n",
      "\u001b[34m[22:18:05] src/tree/updater_prune.cc:74: tree pruning end, 1 roots, 10 extra nodes, 18 pruned nodes, max_depth=5\u001b[0m\n",
      "\u001b[34m[46]#011train-error:0.174116#011validation-error:0.189189\u001b[0m\n",
      "\u001b[34m[22:18:05] src/tree/updater_prune.cc:74: tree pruning end, 1 roots, 6 extra nodes, 14 pruned nodes, max_depth=3\u001b[0m\n",
      "\u001b[34m[47]#011train-error:0.174319#011validation-error:0.187767\u001b[0m\n",
      "\u001b[34m[22:18:05] src/tree/updater_prune.cc:74: tree pruning end, 1 roots, 0 extra nodes, 18 pruned nodes, max_depth=0\u001b[0m\n",
      "\u001b[34m[48]#011train-error:0.174319#011validation-error:0.188478\u001b[0m\n",
      "\u001b[34m[22:18:05] src/tree/updater_prune.cc:74: tree pruning end, 1 roots, 10 extra nodes, 26 pruned nodes, max_depth=5\u001b[0m\n",
      "\u001b[34m[49]#011train-error:0.173304#011validation-error:0.187767\u001b[0m\n",
      "\u001b[34m[22:18:05] src/tree/updater_prune.cc:74: tree pruning end, 1 roots, 10 extra nodes, 10 pruned nodes, max_depth=4\u001b[0m\n",
      "\u001b[34m[50]#011train-error:0.172897#011validation-error:0.187055\u001b[0m\n",
      "\u001b[34m[22:18:05] src/tree/updater_prune.cc:74: tree pruning end, 1 roots, 20 extra nodes, 16 pruned nodes, max_depth=5\u001b[0m\n",
      "\u001b[34m[51]#011train-error:0.170866#011validation-error:0.188478\u001b[0m\n",
      "\u001b[34m[22:18:05] src/tree/updater_prune.cc:74: tree pruning end, 1 roots, 18 extra nodes, 8 pruned nodes, max_depth=5\u001b[0m\n",
      "\u001b[34m[52]#011train-error:0.171475#011validation-error:0.190612\u001b[0m\n",
      "\u001b[34m[22:18:05] src/tree/updater_prune.cc:74: tree pruning end, 1 roots, 0 extra nodes, 18 pruned nodes, max_depth=0\u001b[0m\n",
      "\u001b[34m[53]#011train-error:0.171678#011validation-error:0.190612\u001b[0m\n",
      "\u001b[34m[22:18:05] src/tree/updater_prune.cc:74: tree pruning end, 1 roots, 12 extra nodes, 24 pruned nodes, max_depth=4\u001b[0m\n",
      "\u001b[34m[54]#011train-error:0.170053#011validation-error:0.191323\u001b[0m\n",
      "\u001b[34m[22:18:05] src/tree/updater_prune.cc:74: tree pruning end, 1 roots, 0 extra nodes, 22 pruned nodes, max_depth=0\u001b[0m\n",
      "\u001b[34m[55]#011train-error:0.170053#011validation-error:0.191323\u001b[0m\n",
      "\u001b[34m[22:18:05] src/tree/updater_prune.cc:74: tree pruning end, 1 roots, 0 extra nodes, 22 pruned nodes, max_depth=0\u001b[0m\n",
      "\u001b[34m[56]#011train-error:0.170053#011validation-error:0.191323\u001b[0m\n",
      "\u001b[34m[22:18:05] src/tree/updater_prune.cc:74: tree pruning end, 1 roots, 6 extra nodes, 12 pruned nodes, max_depth=3\u001b[0m\n",
      "\u001b[34m[57]#011train-error:0.170256#011validation-error:0.193457\u001b[0m\n",
      "\u001b[34m[22:18:05] src/tree/updater_prune.cc:74: tree pruning end, 1 roots, 0 extra nodes, 22 pruned nodes, max_depth=0\u001b[0m\n",
      "\u001b[34m[58]#011train-error:0.170053#011validation-error:0.193457\u001b[0m\n",
      "\u001b[34m[22:18:05] src/tree/updater_prune.cc:74: tree pruning end, 1 roots, 22 extra nodes, 12 pruned nodes, max_depth=5\u001b[0m\n",
      "\u001b[34m[59]#011train-error:0.16985#011validation-error:0.19559\u001b[0m\n",
      "\u001b[34m[22:18:05] src/tree/updater_prune.cc:74: tree pruning end, 1 roots, 16 extra nodes, 10 pruned nodes, max_depth=5\u001b[0m\n",
      "\u001b[34m[60]#011train-error:0.170053#011validation-error:0.197013\u001b[0m\n",
      "\u001b[34m[22:18:05] src/tree/updater_prune.cc:74: tree pruning end, 1 roots, 8 extra nodes, 22 pruned nodes, max_depth=4\u001b[0m\n",
      "\u001b[34m[61]#011train-error:0.168631#011validation-error:0.194879\u001b[0m\n",
      "\u001b[34m[22:18:05] src/tree/updater_prune.cc:74: tree pruning end, 1 roots, 0 extra nodes, 26 pruned nodes, max_depth=0\u001b[0m\n",
      "\u001b[34m[62]#011train-error:0.168631#011validation-error:0.194168\u001b[0m\n",
      "\u001b[34m[22:18:05] src/tree/updater_prune.cc:74: tree pruning end, 1 roots, 0 extra nodes, 16 pruned nodes, max_depth=0\u001b[0m\n",
      "\u001b[34m[63]#011train-error:0.168834#011validation-error:0.194168\u001b[0m\n",
      "\u001b[34m[22:18:05] src/tree/updater_prune.cc:74: tree pruning end, 1 roots, 10 extra nodes, 22 pruned nodes, max_depth=5\u001b[0m\n",
      "\u001b[34m[64]#011train-error:0.16924#011validation-error:0.193457\u001b[0m\n",
      "\u001b[34m[22:18:05] src/tree/updater_prune.cc:74: tree pruning end, 1 roots, 8 extra nodes, 22 pruned nodes, max_depth=4\u001b[0m\n",
      "\u001b[34m[65]#011train-error:0.168224#011validation-error:0.190612\u001b[0m\n",
      "\u001b[34m[22:18:05] src/tree/updater_prune.cc:74: tree pruning end, 1 roots, 16 extra nodes, 12 pruned nodes, max_depth=5\u001b[0m\n",
      "\u001b[34m[66]#011train-error:0.168021#011validation-error:0.192745\u001b[0m\n",
      "\u001b[34m[22:18:05] src/tree/updater_prune.cc:74: tree pruning end, 1 roots, 0 extra nodes, 16 pruned nodes, max_depth=0\u001b[0m\n",
      "\u001b[34m[67]#011train-error:0.168224#011validation-error:0.192745\u001b[0m\n",
      "\u001b[34m[22:18:05] src/tree/updater_prune.cc:74: tree pruning end, 1 roots, 14 extra nodes, 22 pruned nodes, max_depth=5\u001b[0m\n",
      "\u001b[34m[68]#011train-error:0.169443#011validation-error:0.194879\u001b[0m\n",
      "\u001b[34m[22:18:05] src/tree/updater_prune.cc:74: tree pruning end, 1 roots, 0 extra nodes, 22 pruned nodes, max_depth=0\u001b[0m\n",
      "\u001b[34m[69]#011train-error:0.169443#011validation-error:0.194879\u001b[0m\n",
      "\u001b[34m[22:18:05] src/tree/updater_prune.cc:74: tree pruning end, 1 roots, 10 extra nodes, 24 pruned nodes, max_depth=5\u001b[0m\n",
      "\u001b[34m[70]#011train-error:0.168834#011validation-error:0.193457\u001b[0m\n",
      "\u001b[34m[22:18:05] src/tree/updater_prune.cc:74: tree pruning end, 1 roots, 0 extra nodes, 16 pruned nodes, max_depth=0\u001b[0m\n",
      "\u001b[34m[71]#011train-error:0.169037#011validation-error:0.193457\u001b[0m\n",
      "\u001b[34m[22:18:05] src/tree/updater_prune.cc:74: tree pruning end, 1 roots, 8 extra nodes, 4 pruned nodes, max_depth=4\u001b[0m\n",
      "\u001b[34m[72]#011train-error:0.168021#011validation-error:0.192034\u001b[0m\n",
      "\u001b[34m[22:18:05] src/tree/updater_prune.cc:74: tree pruning end, 1 roots, 22 extra nodes, 18 pruned nodes, max_depth=5\u001b[0m\n",
      "\u001b[34m[73]#011train-error:0.168021#011validation-error:0.194879\u001b[0m\n",
      "\u001b[34m[22:18:05] src/tree/updater_prune.cc:74: tree pruning end, 1 roots, 8 extra nodes, 18 pruned nodes, max_depth=4\u001b[0m\n",
      "\u001b[34m[74]#011train-error:0.167818#011validation-error:0.193457\u001b[0m\n",
      "\u001b[34m[22:18:05] src/tree/updater_prune.cc:74: tree pruning end, 1 roots, 0 extra nodes, 14 pruned nodes, max_depth=0\u001b[0m\n",
      "\u001b[34m[75]#011train-error:0.167615#011validation-error:0.192745\u001b[0m\n",
      "\u001b[34m[22:18:05] src/tree/updater_prune.cc:74: tree pruning end, 1 roots, 0 extra nodes, 24 pruned nodes, max_depth=0\u001b[0m\n",
      "\u001b[34m[76]#011train-error:0.167208#011validation-error:0.192745\u001b[0m\n",
      "\u001b[34m[22:18:05] src/tree/updater_prune.cc:74: tree pruning end, 1 roots, 0 extra nodes, 34 pruned nodes, max_depth=0\u001b[0m\n",
      "\u001b[34m[77]#011train-error:0.167412#011validation-error:0.193457\u001b[0m\n",
      "\u001b[34m[22:18:05] src/tree/updater_prune.cc:74: tree pruning end, 1 roots, 0 extra nodes, 12 pruned nodes, max_depth=0\u001b[0m\n",
      "\u001b[34m[78]#011train-error:0.167412#011validation-error:0.193457\u001b[0m\n",
      "\u001b[34m[22:18:05] src/tree/updater_prune.cc:74: tree pruning end, 1 roots, 0 extra nodes, 16 pruned nodes, max_depth=0\u001b[0m\n",
      "\u001b[34m[79]#011train-error:0.167208#011validation-error:0.192745\u001b[0m\n",
      "\u001b[34m[22:18:05] src/tree/updater_prune.cc:74: tree pruning end, 1 roots, 12 extra nodes, 18 pruned nodes, max_depth=3\u001b[0m\n",
      "\u001b[34m[80]#011train-error:0.167412#011validation-error:0.194879\u001b[0m\n",
      "\u001b[34m[22:18:05] src/tree/updater_prune.cc:74: tree pruning end, 1 roots, 0 extra nodes, 20 pruned nodes, max_depth=0\u001b[0m\n",
      "\u001b[34m[81]#011train-error:0.167208#011validation-error:0.194879\u001b[0m\n",
      "\u001b[34m[22:18:05] src/tree/updater_prune.cc:74: tree pruning end, 1 roots, 0 extra nodes, 26 pruned nodes, max_depth=0\u001b[0m\n",
      "\u001b[34m[82]#011train-error:0.167208#011validation-error:0.194168\u001b[0m\n",
      "\u001b[34m[22:18:05] src/tree/updater_prune.cc:74: tree pruning end, 1 roots, 12 extra nodes, 12 pruned nodes, max_depth=5\u001b[0m\n",
      "\u001b[34m[83]#011train-error:0.167818#011validation-error:0.194879\u001b[0m\n",
      "\u001b[34m[22:18:05] src/tree/updater_prune.cc:74: tree pruning end, 1 roots, 10 extra nodes, 22 pruned nodes, max_depth=5\u001b[0m\n",
      "\u001b[34m[84]#011train-error:0.167208#011validation-error:0.193457\u001b[0m\n",
      "\u001b[34m[22:18:05] src/tree/updater_prune.cc:74: tree pruning end, 1 roots, 8 extra nodes, 18 pruned nodes, max_depth=4\u001b[0m\n",
      "\u001b[34m[85]#011train-error:0.167412#011validation-error:0.191323\u001b[0m\n",
      "\u001b[34m[22:18:05] src/tree/updater_prune.cc:74: tree pruning end, 1 roots, 10 extra nodes, 22 pruned nodes, max_depth=5\u001b[0m\n",
      "\u001b[34m[86]#011train-error:0.165786#011validation-error:0.193457\u001b[0m\n",
      "\u001b[34m[22:18:05] src/tree/updater_prune.cc:74: tree pruning end, 1 roots, 10 extra nodes, 32 pruned nodes, max_depth=5\u001b[0m\n",
      "\u001b[34m[87]#011train-error:0.165177#011validation-error:0.193457\u001b[0m\n",
      "\u001b[34m[22:18:05] src/tree/updater_prune.cc:74: tree pruning end, 1 roots, 0 extra nodes, 28 pruned nodes, max_depth=0\u001b[0m\n",
      "\u001b[34m[88]#011train-error:0.165177#011validation-error:0.193457\u001b[0m\n",
      "\u001b[34m[22:18:05] src/tree/updater_prune.cc:74: tree pruning end, 1 roots, 0 extra nodes, 28 pruned nodes, max_depth=0\u001b[0m\n",
      "\u001b[34m[89]#011train-error:0.165177#011validation-error:0.193457\u001b[0m\n",
      "\u001b[34m[22:18:05] src/tree/updater_prune.cc:74: tree pruning end, 1 roots, 26 extra nodes, 10 pruned nodes, max_depth=5\u001b[0m\n",
      "\u001b[34m[90]#011train-error:0.16538#011validation-error:0.192745\u001b[0m\n",
      "\u001b[34m[22:18:05] src/tree/updater_prune.cc:74: tree pruning end, 1 roots, 8 extra nodes, 18 pruned nodes, max_depth=4\u001b[0m\n",
      "\u001b[34m[91]#011train-error:0.165177#011validation-error:0.192745\u001b[0m\n",
      "\u001b[34m[22:18:05] src/tree/updater_prune.cc:74: tree pruning end, 1 roots, 16 extra nodes, 22 pruned nodes, max_depth=5\u001b[0m\n",
      "\u001b[34m[92]#011train-error:0.165583#011validation-error:0.191323\u001b[0m\n",
      "\u001b[34m[22:18:05] src/tree/updater_prune.cc:74: tree pruning end, 1 roots, 4 extra nodes, 20 pruned nodes, max_depth=2\u001b[0m\n",
      "\u001b[34m[93]#011train-error:0.166802#011validation-error:0.192034\u001b[0m\n",
      "\u001b[34m[22:18:05] src/tree/updater_prune.cc:74: tree pruning end, 1 roots, 10 extra nodes, 30 pruned nodes, max_depth=4\u001b[0m\n",
      "\u001b[34m[94]#011train-error:0.166193#011validation-error:0.190612\u001b[0m\n",
      "\u001b[34m[22:18:05] src/tree/updater_prune.cc:74: tree pruning end, 1 roots, 0 extra nodes, 24 pruned nodes, max_depth=0\u001b[0m\n",
      "\u001b[34m[95]#011train-error:0.166193#011validation-error:0.190612\u001b[0m\n",
      "\u001b[34m[22:18:05] src/tree/updater_prune.cc:74: tree pruning end, 1 roots, 6 extra nodes, 32 pruned nodes, max_depth=3\u001b[0m\n",
      "\u001b[34m[96]#011train-error:0.165786#011validation-error:0.190612\u001b[0m\n",
      "\u001b[34m[22:18:06] src/tree/updater_prune.cc:74: tree pruning end, 1 roots, 10 extra nodes, 28 pruned nodes, max_depth=5\u001b[0m\n",
      "\u001b[34m[97]#011train-error:0.165583#011validation-error:0.191323\u001b[0m\n",
      "\u001b[34m[22:18:06] src/tree/updater_prune.cc:74: tree pruning end, 1 roots, 10 extra nodes, 30 pruned nodes, max_depth=5\u001b[0m\n",
      "\u001b[34m[98]#011train-error:0.164974#011validation-error:0.190612\u001b[0m\n",
      "\u001b[34m[22:18:06] src/tree/updater_prune.cc:74: tree pruning end, 1 roots, 6 extra nodes, 18 pruned nodes, max_depth=3\u001b[0m\n",
      "\u001b[34m[99]#011train-error:0.166193#011validation-error:0.191323\u001b[0m\n",
      "\n",
      "2023-07-17 22:19:23 Completed - Training job completed\n",
      "Training seconds: 167\n",
      "Billable seconds: 167\n"
     ]
    }
   ],
   "source": [
    "#Set-up hyperparameters and fit the train data\n",
    "sess=sagemaker.Session()\n",
    "xgb=sagemaker.estimator.Estimator(container,role,instance_count=1,instance_type='ml.m4.xlarge',\n",
    "                                 output_path='s3://{}/{}/output'.format(bucket,prefix), sagemaker_session=sess)\n",
    "\n",
    "xgb.set_hyperparameters(max_depth=5, eta=0.2, gamma=4, min_child_weight=6, subsample=0.8, silent=0, objective='binary:logistic',num_round=100)\n",
    "\n",
    "xgb.fit({'train':s3_input_train,'validation':s3_input_validation})"
   ]
  },
  {
   "cell_type": "markdown",
   "id": "4b853be1",
   "metadata": {},
   "source": [
    "## ModelDeployement\n",
    "\n",
    "The model was deployed on one M4.XLARGE instance"
   ]
  },
  {
   "cell_type": "code",
   "execution_count": 27,
   "id": "d2311f42-0230-434c-95db-cafd299c4ff7",
   "metadata": {
    "tags": []
   },
   "outputs": [
    {
     "name": "stdout",
     "output_type": "stream",
     "text": [
      "-----!"
     ]
    }
   ],
   "source": [
    "xgb_predictor=xgb.deploy(initial_instance_count=1,instance_type='ml.m4.xlarge')"
   ]
  },
  {
   "cell_type": "markdown",
   "id": "bc0e54e0-ad0e-42c2-af2c-a1ad00fd2864",
   "metadata": {},
   "source": [
    "### Model Prediction and Evaluation"
   ]
  },
  {
   "cell_type": "code",
   "execution_count": 28,
   "id": "faa61e8d-6915-4903-8b94-40cb4a35825f",
   "metadata": {},
   "outputs": [],
   "source": [
    "xgb_predictor.serializer=sagemaker.serializers.CSVSerializer()"
   ]
  },
  {
   "cell_type": "code",
   "execution_count": 31,
   "id": "782c9c78-ec94-4c75-beed-26552407ae2d",
   "metadata": {
    "tags": []
   },
   "outputs": [],
   "source": [
    "def predict (data,predictor, rows=500):\n",
    "    split_array=np.array_split(data,int(data.shape[0]/float(rows)+1))\n",
    "    predictions=''\n",
    "    for array in split_array:\n",
    "        predictions=','.join([predictions,predictor.predict(array).decode('utf-8')])\n",
    "        \n",
    "    return np.fromstring(predictions[1:],sep=',')\n",
    "\n",
    "predictions=predict(test_data.drop(['Churn'],axis=1).to_numpy(),xgb_predictor)"
   ]
  },
  {
   "cell_type": "code",
   "execution_count": 33,
   "id": "b93ac25d-d188-4ab2-a900-9fcb04e5dcbc",
   "metadata": {
    "tags": []
   },
   "outputs": [
    {
     "data": {
      "application/vnd.jupyter.widget-view+json": {
       "model_id": "34ab56fa13a142c599bdd6b26ac03987"
      },
      "text/plain": [
       "predictions  0.0  1.0\n",
       "actuals              \n",
       "0            479   48\n",
       "1             88   89"
      ]
     },
     "metadata": {},
     "output_type": "display_data"
    }
   ],
   "source": [
    "pd.crosstab(index=test_data['Churn'],columns=np.round(predictions),rownames=['actuals'],colnames=['predictions'])"
   ]
  },
  {
   "cell_type": "markdown",
   "id": "e4603617-8d7a-4414-a707-ed686346f54b",
   "metadata": {},
   "source": [
    "So, out of 704 customers, model predicted 137 would churn and 89 of them actually did. We also had 88 customer who actually churned but model did not predict that. <br>\n",
    "There are some space for improvement like hyperparameters tuning, different model selection, models ensemble, and feature engineering"
   ]
  },
  {
   "cell_type": "code",
   "execution_count": 34,
   "id": "f2c40861-dc90-49b8-8858-21b9e0a9b663",
   "metadata": {
    "tags": []
   },
   "outputs": [],
   "source": [
    "xgb_predictor.delete_endpoint(delete_endpoint_config=True)"
   ]
  },
  {
   "cell_type": "code",
   "execution_count": null,
   "id": "4ce83560-8867-4d9c-af17-e08e1a44de5e",
   "metadata": {},
   "outputs": [],
   "source": []
  }
 ],
 "metadata": {
  "availableInstances": [
   {
    "_defaultOrder": 0,
    "_isFastLaunch": true,
    "category": "General purpose",
    "gpuNum": 0,
    "hideHardwareSpecs": false,
    "memoryGiB": 4,
    "name": "ml.t3.medium",
    "vcpuNum": 2
   },
   {
    "_defaultOrder": 1,
    "_isFastLaunch": false,
    "category": "General purpose",
    "gpuNum": 0,
    "hideHardwareSpecs": false,
    "memoryGiB": 8,
    "name": "ml.t3.large",
    "vcpuNum": 2
   },
   {
    "_defaultOrder": 2,
    "_isFastLaunch": false,
    "category": "General purpose",
    "gpuNum": 0,
    "hideHardwareSpecs": false,
    "memoryGiB": 16,
    "name": "ml.t3.xlarge",
    "vcpuNum": 4
   },
   {
    "_defaultOrder": 3,
    "_isFastLaunch": false,
    "category": "General purpose",
    "gpuNum": 0,
    "hideHardwareSpecs": false,
    "memoryGiB": 32,
    "name": "ml.t3.2xlarge",
    "vcpuNum": 8
   },
   {
    "_defaultOrder": 4,
    "_isFastLaunch": true,
    "category": "General purpose",
    "gpuNum": 0,
    "hideHardwareSpecs": false,
    "memoryGiB": 8,
    "name": "ml.m5.large",
    "vcpuNum": 2
   },
   {
    "_defaultOrder": 5,
    "_isFastLaunch": false,
    "category": "General purpose",
    "gpuNum": 0,
    "hideHardwareSpecs": false,
    "memoryGiB": 16,
    "name": "ml.m5.xlarge",
    "vcpuNum": 4
   },
   {
    "_defaultOrder": 6,
    "_isFastLaunch": false,
    "category": "General purpose",
    "gpuNum": 0,
    "hideHardwareSpecs": false,
    "memoryGiB": 32,
    "name": "ml.m5.2xlarge",
    "vcpuNum": 8
   },
   {
    "_defaultOrder": 7,
    "_isFastLaunch": false,
    "category": "General purpose",
    "gpuNum": 0,
    "hideHardwareSpecs": false,
    "memoryGiB": 64,
    "name": "ml.m5.4xlarge",
    "vcpuNum": 16
   },
   {
    "_defaultOrder": 8,
    "_isFastLaunch": false,
    "category": "General purpose",
    "gpuNum": 0,
    "hideHardwareSpecs": false,
    "memoryGiB": 128,
    "name": "ml.m5.8xlarge",
    "vcpuNum": 32
   },
   {
    "_defaultOrder": 9,
    "_isFastLaunch": false,
    "category": "General purpose",
    "gpuNum": 0,
    "hideHardwareSpecs": false,
    "memoryGiB": 192,
    "name": "ml.m5.12xlarge",
    "vcpuNum": 48
   },
   {
    "_defaultOrder": 10,
    "_isFastLaunch": false,
    "category": "General purpose",
    "gpuNum": 0,
    "hideHardwareSpecs": false,
    "memoryGiB": 256,
    "name": "ml.m5.16xlarge",
    "vcpuNum": 64
   },
   {
    "_defaultOrder": 11,
    "_isFastLaunch": false,
    "category": "General purpose",
    "gpuNum": 0,
    "hideHardwareSpecs": false,
    "memoryGiB": 384,
    "name": "ml.m5.24xlarge",
    "vcpuNum": 96
   },
   {
    "_defaultOrder": 12,
    "_isFastLaunch": false,
    "category": "General purpose",
    "gpuNum": 0,
    "hideHardwareSpecs": false,
    "memoryGiB": 8,
    "name": "ml.m5d.large",
    "vcpuNum": 2
   },
   {
    "_defaultOrder": 13,
    "_isFastLaunch": false,
    "category": "General purpose",
    "gpuNum": 0,
    "hideHardwareSpecs": false,
    "memoryGiB": 16,
    "name": "ml.m5d.xlarge",
    "vcpuNum": 4
   },
   {
    "_defaultOrder": 14,
    "_isFastLaunch": false,
    "category": "General purpose",
    "gpuNum": 0,
    "hideHardwareSpecs": false,
    "memoryGiB": 32,
    "name": "ml.m5d.2xlarge",
    "vcpuNum": 8
   },
   {
    "_defaultOrder": 15,
    "_isFastLaunch": false,
    "category": "General purpose",
    "gpuNum": 0,
    "hideHardwareSpecs": false,
    "memoryGiB": 64,
    "name": "ml.m5d.4xlarge",
    "vcpuNum": 16
   },
   {
    "_defaultOrder": 16,
    "_isFastLaunch": false,
    "category": "General purpose",
    "gpuNum": 0,
    "hideHardwareSpecs": false,
    "memoryGiB": 128,
    "name": "ml.m5d.8xlarge",
    "vcpuNum": 32
   },
   {
    "_defaultOrder": 17,
    "_isFastLaunch": false,
    "category": "General purpose",
    "gpuNum": 0,
    "hideHardwareSpecs": false,
    "memoryGiB": 192,
    "name": "ml.m5d.12xlarge",
    "vcpuNum": 48
   },
   {
    "_defaultOrder": 18,
    "_isFastLaunch": false,
    "category": "General purpose",
    "gpuNum": 0,
    "hideHardwareSpecs": false,
    "memoryGiB": 256,
    "name": "ml.m5d.16xlarge",
    "vcpuNum": 64
   },
   {
    "_defaultOrder": 19,
    "_isFastLaunch": false,
    "category": "General purpose",
    "gpuNum": 0,
    "hideHardwareSpecs": false,
    "memoryGiB": 384,
    "name": "ml.m5d.24xlarge",
    "vcpuNum": 96
   },
   {
    "_defaultOrder": 20,
    "_isFastLaunch": false,
    "category": "General purpose",
    "gpuNum": 0,
    "hideHardwareSpecs": true,
    "memoryGiB": 0,
    "name": "ml.geospatial.interactive",
    "supportedImageNames": [
     "sagemaker-geospatial-v1-0"
    ],
    "vcpuNum": 0
   },
   {
    "_defaultOrder": 21,
    "_isFastLaunch": true,
    "category": "Compute optimized",
    "gpuNum": 0,
    "hideHardwareSpecs": false,
    "memoryGiB": 4,
    "name": "ml.c5.large",
    "vcpuNum": 2
   },
   {
    "_defaultOrder": 22,
    "_isFastLaunch": false,
    "category": "Compute optimized",
    "gpuNum": 0,
    "hideHardwareSpecs": false,
    "memoryGiB": 8,
    "name": "ml.c5.xlarge",
    "vcpuNum": 4
   },
   {
    "_defaultOrder": 23,
    "_isFastLaunch": false,
    "category": "Compute optimized",
    "gpuNum": 0,
    "hideHardwareSpecs": false,
    "memoryGiB": 16,
    "name": "ml.c5.2xlarge",
    "vcpuNum": 8
   },
   {
    "_defaultOrder": 24,
    "_isFastLaunch": false,
    "category": "Compute optimized",
    "gpuNum": 0,
    "hideHardwareSpecs": false,
    "memoryGiB": 32,
    "name": "ml.c5.4xlarge",
    "vcpuNum": 16
   },
   {
    "_defaultOrder": 25,
    "_isFastLaunch": false,
    "category": "Compute optimized",
    "gpuNum": 0,
    "hideHardwareSpecs": false,
    "memoryGiB": 72,
    "name": "ml.c5.9xlarge",
    "vcpuNum": 36
   },
   {
    "_defaultOrder": 26,
    "_isFastLaunch": false,
    "category": "Compute optimized",
    "gpuNum": 0,
    "hideHardwareSpecs": false,
    "memoryGiB": 96,
    "name": "ml.c5.12xlarge",
    "vcpuNum": 48
   },
   {
    "_defaultOrder": 27,
    "_isFastLaunch": false,
    "category": "Compute optimized",
    "gpuNum": 0,
    "hideHardwareSpecs": false,
    "memoryGiB": 144,
    "name": "ml.c5.18xlarge",
    "vcpuNum": 72
   },
   {
    "_defaultOrder": 28,
    "_isFastLaunch": false,
    "category": "Compute optimized",
    "gpuNum": 0,
    "hideHardwareSpecs": false,
    "memoryGiB": 192,
    "name": "ml.c5.24xlarge",
    "vcpuNum": 96
   },
   {
    "_defaultOrder": 29,
    "_isFastLaunch": true,
    "category": "Accelerated computing",
    "gpuNum": 1,
    "hideHardwareSpecs": false,
    "memoryGiB": 16,
    "name": "ml.g4dn.xlarge",
    "vcpuNum": 4
   },
   {
    "_defaultOrder": 30,
    "_isFastLaunch": false,
    "category": "Accelerated computing",
    "gpuNum": 1,
    "hideHardwareSpecs": false,
    "memoryGiB": 32,
    "name": "ml.g4dn.2xlarge",
    "vcpuNum": 8
   },
   {
    "_defaultOrder": 31,
    "_isFastLaunch": false,
    "category": "Accelerated computing",
    "gpuNum": 1,
    "hideHardwareSpecs": false,
    "memoryGiB": 64,
    "name": "ml.g4dn.4xlarge",
    "vcpuNum": 16
   },
   {
    "_defaultOrder": 32,
    "_isFastLaunch": false,
    "category": "Accelerated computing",
    "gpuNum": 1,
    "hideHardwareSpecs": false,
    "memoryGiB": 128,
    "name": "ml.g4dn.8xlarge",
    "vcpuNum": 32
   },
   {
    "_defaultOrder": 33,
    "_isFastLaunch": false,
    "category": "Accelerated computing",
    "gpuNum": 4,
    "hideHardwareSpecs": false,
    "memoryGiB": 192,
    "name": "ml.g4dn.12xlarge",
    "vcpuNum": 48
   },
   {
    "_defaultOrder": 34,
    "_isFastLaunch": false,
    "category": "Accelerated computing",
    "gpuNum": 1,
    "hideHardwareSpecs": false,
    "memoryGiB": 256,
    "name": "ml.g4dn.16xlarge",
    "vcpuNum": 64
   },
   {
    "_defaultOrder": 35,
    "_isFastLaunch": false,
    "category": "Accelerated computing",
    "gpuNum": 1,
    "hideHardwareSpecs": false,
    "memoryGiB": 61,
    "name": "ml.p3.2xlarge",
    "vcpuNum": 8
   },
   {
    "_defaultOrder": 36,
    "_isFastLaunch": false,
    "category": "Accelerated computing",
    "gpuNum": 4,
    "hideHardwareSpecs": false,
    "memoryGiB": 244,
    "name": "ml.p3.8xlarge",
    "vcpuNum": 32
   },
   {
    "_defaultOrder": 37,
    "_isFastLaunch": false,
    "category": "Accelerated computing",
    "gpuNum": 8,
    "hideHardwareSpecs": false,
    "memoryGiB": 488,
    "name": "ml.p3.16xlarge",
    "vcpuNum": 64
   },
   {
    "_defaultOrder": 38,
    "_isFastLaunch": false,
    "category": "Accelerated computing",
    "gpuNum": 8,
    "hideHardwareSpecs": false,
    "memoryGiB": 768,
    "name": "ml.p3dn.24xlarge",
    "vcpuNum": 96
   },
   {
    "_defaultOrder": 39,
    "_isFastLaunch": false,
    "category": "Memory Optimized",
    "gpuNum": 0,
    "hideHardwareSpecs": false,
    "memoryGiB": 16,
    "name": "ml.r5.large",
    "vcpuNum": 2
   },
   {
    "_defaultOrder": 40,
    "_isFastLaunch": false,
    "category": "Memory Optimized",
    "gpuNum": 0,
    "hideHardwareSpecs": false,
    "memoryGiB": 32,
    "name": "ml.r5.xlarge",
    "vcpuNum": 4
   },
   {
    "_defaultOrder": 41,
    "_isFastLaunch": false,
    "category": "Memory Optimized",
    "gpuNum": 0,
    "hideHardwareSpecs": false,
    "memoryGiB": 64,
    "name": "ml.r5.2xlarge",
    "vcpuNum": 8
   },
   {
    "_defaultOrder": 42,
    "_isFastLaunch": false,
    "category": "Memory Optimized",
    "gpuNum": 0,
    "hideHardwareSpecs": false,
    "memoryGiB": 128,
    "name": "ml.r5.4xlarge",
    "vcpuNum": 16
   },
   {
    "_defaultOrder": 43,
    "_isFastLaunch": false,
    "category": "Memory Optimized",
    "gpuNum": 0,
    "hideHardwareSpecs": false,
    "memoryGiB": 256,
    "name": "ml.r5.8xlarge",
    "vcpuNum": 32
   },
   {
    "_defaultOrder": 44,
    "_isFastLaunch": false,
    "category": "Memory Optimized",
    "gpuNum": 0,
    "hideHardwareSpecs": false,
    "memoryGiB": 384,
    "name": "ml.r5.12xlarge",
    "vcpuNum": 48
   },
   {
    "_defaultOrder": 45,
    "_isFastLaunch": false,
    "category": "Memory Optimized",
    "gpuNum": 0,
    "hideHardwareSpecs": false,
    "memoryGiB": 512,
    "name": "ml.r5.16xlarge",
    "vcpuNum": 64
   },
   {
    "_defaultOrder": 46,
    "_isFastLaunch": false,
    "category": "Memory Optimized",
    "gpuNum": 0,
    "hideHardwareSpecs": false,
    "memoryGiB": 768,
    "name": "ml.r5.24xlarge",
    "vcpuNum": 96
   },
   {
    "_defaultOrder": 47,
    "_isFastLaunch": false,
    "category": "Accelerated computing",
    "gpuNum": 1,
    "hideHardwareSpecs": false,
    "memoryGiB": 16,
    "name": "ml.g5.xlarge",
    "vcpuNum": 4
   },
   {
    "_defaultOrder": 48,
    "_isFastLaunch": false,
    "category": "Accelerated computing",
    "gpuNum": 1,
    "hideHardwareSpecs": false,
    "memoryGiB": 32,
    "name": "ml.g5.2xlarge",
    "vcpuNum": 8
   },
   {
    "_defaultOrder": 49,
    "_isFastLaunch": false,
    "category": "Accelerated computing",
    "gpuNum": 1,
    "hideHardwareSpecs": false,
    "memoryGiB": 64,
    "name": "ml.g5.4xlarge",
    "vcpuNum": 16
   },
   {
    "_defaultOrder": 50,
    "_isFastLaunch": false,
    "category": "Accelerated computing",
    "gpuNum": 1,
    "hideHardwareSpecs": false,
    "memoryGiB": 128,
    "name": "ml.g5.8xlarge",
    "vcpuNum": 32
   },
   {
    "_defaultOrder": 51,
    "_isFastLaunch": false,
    "category": "Accelerated computing",
    "gpuNum": 1,
    "hideHardwareSpecs": false,
    "memoryGiB": 256,
    "name": "ml.g5.16xlarge",
    "vcpuNum": 64
   },
   {
    "_defaultOrder": 52,
    "_isFastLaunch": false,
    "category": "Accelerated computing",
    "gpuNum": 4,
    "hideHardwareSpecs": false,
    "memoryGiB": 192,
    "name": "ml.g5.12xlarge",
    "vcpuNum": 48
   },
   {
    "_defaultOrder": 53,
    "_isFastLaunch": false,
    "category": "Accelerated computing",
    "gpuNum": 4,
    "hideHardwareSpecs": false,
    "memoryGiB": 384,
    "name": "ml.g5.24xlarge",
    "vcpuNum": 96
   },
   {
    "_defaultOrder": 54,
    "_isFastLaunch": false,
    "category": "Accelerated computing",
    "gpuNum": 8,
    "hideHardwareSpecs": false,
    "memoryGiB": 768,
    "name": "ml.g5.48xlarge",
    "vcpuNum": 192
   },
   {
    "_defaultOrder": 55,
    "_isFastLaunch": false,
    "category": "Accelerated computing",
    "gpuNum": 8,
    "hideHardwareSpecs": false,
    "memoryGiB": 1152,
    "name": "ml.p4d.24xlarge",
    "vcpuNum": 96
   },
   {
    "_defaultOrder": 56,
    "_isFastLaunch": false,
    "category": "Accelerated computing",
    "gpuNum": 8,
    "hideHardwareSpecs": false,
    "memoryGiB": 1152,
    "name": "ml.p4de.24xlarge",
    "vcpuNum": 96
   }
  ],
  "instance_type": "ml.t3.medium",
  "kernelspec": {
   "display_name": "Python 3 (ipykernel)",
   "language": "python",
   "name": "python3"
  },
  "language_info": {
   "codemirror_mode": {
    "name": "ipython",
    "version": 3
   },
   "file_extension": ".py",
   "mimetype": "text/x-python",
   "name": "python",
   "nbconvert_exporter": "python",
   "pygments_lexer": "ipython3",
   "version": "3.10.9"
  },
  "toc-autonumbering": false,
  "toc-showmarkdowntxt": false
 },
 "nbformat": 4,
 "nbformat_minor": 5
}
